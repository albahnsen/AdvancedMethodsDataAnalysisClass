{
 "cells": [
  {
   "cell_type": "markdown",
   "metadata": {},
   "source": [
    "# Exercise 13\n",
    "\n",
    "## Analyze class homeworks\n"
   ]
  },
  {
   "cell_type": "code",
   "execution_count": 1,
   "metadata": {},
   "outputs": [
    {
     "data": {
      "text/html": [
       "<div>\n",
       "<style scoped>\n",
       "    .dataframe tbody tr th:only-of-type {\n",
       "        vertical-align: middle;\n",
       "    }\n",
       "\n",
       "    .dataframe tbody tr th {\n",
       "        vertical-align: top;\n",
       "    }\n",
       "\n",
       "    .dataframe thead th {\n",
       "        text-align: right;\n",
       "    }\n",
       "</style>\n",
       "<table border=\"1\" class=\"dataframe\">\n",
       "  <thead>\n",
       "    <tr style=\"text-align: right;\">\n",
       "      <th></th>\n",
       "      <th>Genero</th>\n",
       "      <th>E1 - Examples of Time Series Analysis</th>\n",
       "      <th>E4 - Panel Data</th>\n",
       "      <th>E6 - Decison Trees</th>\n",
       "      <th>E8 - Ensemble Trees Overview</th>\n",
       "      <th>E10 - REST-API</th>\n",
       "      <th>E11 - Natural Language Processing Overview</th>\n",
       "    </tr>\n",
       "  </thead>\n",
       "  <tbody>\n",
       "    <tr>\n",
       "      <td>0</td>\n",
       "      <td>M</td>\n",
       "      <td>One of the most valuable application of time s...</td>\n",
       "      <td>The main difference between panel data and tim...</td>\n",
       "      <td>Decision tree are a model used by the analytic...</td>\n",
       "      <td>They are used to make a better prediction than...</td>\n",
       "      <td>Es una forma de arquitectura de datos. Los mic...</td>\n",
       "      <td>NaN</td>\n",
       "    </tr>\n",
       "    <tr>\n",
       "      <td>1</td>\n",
       "      <td>F</td>\n",
       "      <td>ANÁLISIS DE SERIES DE TIEMPO – USOS \\nEl análi...</td>\n",
       "      <td>Series de Tiempo vs Datos en Panel\\nUna serie ...</td>\n",
       "      <td>TIPOS DE ÁRBOLES DE DECISIÓN Y APLICACIONES\\nL...</td>\n",
       "      <td>ENSAMBLAJE EN MACHINE LEARNING\\nLos métodos de...</td>\n",
       "      <td>Microservicios\\nEl objetivo principal de la im...</td>\n",
       "      <td>NaN</td>\n",
       "    </tr>\n",
       "    <tr>\n",
       "      <td>2</td>\n",
       "      <td>M</td>\n",
       "      <td>Una serie de tiempo es una colección de datos ...</td>\n",
       "      <td>NaN</td>\n",
       "      <td>los arboles de decisión hacen parte de los alg...</td>\n",
       "      <td>Ensemble methods is a machine learning techniq...</td>\n",
       "      <td>El enfoque tradicional para el diseño de aplic...</td>\n",
       "      <td>LexisNexis launched Lexis Analytics, a legal r...</td>\n",
       "    </tr>\n",
       "    <tr>\n",
       "      <td>3</td>\n",
       "      <td>M</td>\n",
       "      <td>\\nGiven that Time Series Analysis allows to un...</td>\n",
       "      <td>The difference between panel data and time ser...</td>\n",
       "      <td>Decision Trees Algorithms are machine function...</td>\n",
       "      <td>Ensemble methods in Tree Decision algorithms b...</td>\n",
       "      <td>Micro-services are defined as a type of softwa...</td>\n",
       "      <td>NaN</td>\n",
       "    </tr>\n",
       "    <tr>\n",
       "      <td>4</td>\n",
       "      <td>M</td>\n",
       "      <td>Time Series Analysis is concerned with the stu...</td>\n",
       "      <td>A time series is represented by a variable or ...</td>\n",
       "      <td>Decision trees are a popular supervised machin...</td>\n",
       "      <td>The ensemble method is a combination of severa...</td>\n",
       "      <td>A microservice is a type of information techno...</td>\n",
       "      <td>A commercial product which uses Natural Langua...</td>\n",
       "    </tr>\n",
       "  </tbody>\n",
       "</table>\n",
       "</div>"
      ],
      "text/plain": [
       "  Genero              E1 - Examples of Time Series Analysis  \\\n",
       "0      M  One of the most valuable application of time s...   \n",
       "1      F  ANÁLISIS DE SERIES DE TIEMPO – USOS \\nEl análi...   \n",
       "2      M  Una serie de tiempo es una colección de datos ...   \n",
       "3      M  \\nGiven that Time Series Analysis allows to un...   \n",
       "4      M  Time Series Analysis is concerned with the stu...   \n",
       "\n",
       "                                     E4 - Panel Data  \\\n",
       "0  The main difference between panel data and tim...   \n",
       "1  Series de Tiempo vs Datos en Panel\\nUna serie ...   \n",
       "2                                                NaN   \n",
       "3  The difference between panel data and time ser...   \n",
       "4  A time series is represented by a variable or ...   \n",
       "\n",
       "                                  E6 - Decison Trees  \\\n",
       "0  Decision tree are a model used by the analytic...   \n",
       "1  TIPOS DE ÁRBOLES DE DECISIÓN Y APLICACIONES\\nL...   \n",
       "2  los arboles de decisión hacen parte de los alg...   \n",
       "3  Decision Trees Algorithms are machine function...   \n",
       "4  Decision trees are a popular supervised machin...   \n",
       "\n",
       "                        E8 - Ensemble Trees Overview  \\\n",
       "0  They are used to make a better prediction than...   \n",
       "1  ENSAMBLAJE EN MACHINE LEARNING\\nLos métodos de...   \n",
       "2  Ensemble methods is a machine learning techniq...   \n",
       "3  Ensemble methods in Tree Decision algorithms b...   \n",
       "4  The ensemble method is a combination of severa...   \n",
       "\n",
       "                                      E10 - REST-API  \\\n",
       "0  Es una forma de arquitectura de datos. Los mic...   \n",
       "1  Microservicios\\nEl objetivo principal de la im...   \n",
       "2  El enfoque tradicional para el diseño de aplic...   \n",
       "3  Micro-services are defined as a type of softwa...   \n",
       "4  A microservice is a type of information techno...   \n",
       "\n",
       "          E11 - Natural Language Processing Overview  \n",
       "0                                                NaN  \n",
       "1                                                NaN  \n",
       "2  LexisNexis launched Lexis Analytics, a legal r...  \n",
       "3                                                NaN  \n",
       "4  A commercial product which uses Natural Langua...  "
      ]
     },
     "execution_count": 1,
     "metadata": {},
     "output_type": "execute_result"
    }
   ],
   "source": [
    "import pandas as pd\n",
    "import numpy as np\n",
    "\n",
    "%matplotlib inline\n",
    "import matplotlib.pyplot as plt\n",
    "\n",
    "data = pd.read_excel('../datasets/Consolidado_respuestas_escribir_v2.xlsx')\n",
    "data.head()"
   ]
  },
  {
   "cell_type": "markdown",
   "metadata": {},
   "source": [
    "# Exercise 13.1\n",
    "\n",
    "Analyze the writing patterns of each student"
   ]
  },
  {
   "cell_type": "code",
   "execution_count": null,
   "metadata": {},
   "outputs": [],
   "source": []
  },
  {
   "cell_type": "markdown",
   "metadata": {},
   "source": [
    "# Exercise 13.2\n",
    "\n",
    "Evaluate the similarities of the homeworks of the students.\n",
    "\n",
    "At a homework level, then as a student level.\n"
   ]
  },
  {
   "cell_type": "code",
   "execution_count": null,
   "metadata": {},
   "outputs": [],
   "source": []
  },
  {
   "cell_type": "markdown",
   "metadata": {},
   "source": [
    "# Exercise 13.3\n",
    "\n",
    "Create a classifier to predict the gender of each student\n",
    "\n"
   ]
  },
  {
   "cell_type": "code",
   "execution_count": null,
   "metadata": {},
   "outputs": [],
   "source": []
  },
  {
   "cell_type": "markdown",
   "metadata": {},
   "source": [
    "# Exercise 13.4\n",
    "Classify group members into different subgroups (minimum 3) according to a characteristic of your choice."
   ]
  },
  {
   "cell_type": "code",
   "execution_count": null,
   "metadata": {},
   "outputs": [],
   "source": []
  }
 ],
 "metadata": {
  "kernelspec": {
   "display_name": "Python 3",
   "language": "python",
   "name": "python3"
  },
  "language_info": {
   "codemirror_mode": {
    "name": "ipython",
    "version": 3
   },
   "file_extension": ".py",
   "mimetype": "text/x-python",
   "name": "python",
   "nbconvert_exporter": "python",
   "pygments_lexer": "ipython3",
   "version": "3.7.1"
  }
 },
 "nbformat": 4,
 "nbformat_minor": 4
}
