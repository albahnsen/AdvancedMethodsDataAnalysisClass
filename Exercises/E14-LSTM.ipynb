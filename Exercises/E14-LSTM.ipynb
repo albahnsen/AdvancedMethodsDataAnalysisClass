{
 "cells": [
  {
   "cell_type": "markdown",
   "metadata": {},
   "source": [
    "# Exercise 14\n",
    "\n",
    "## Predict rating using LSTM\n"
   ]
  },
  {
   "cell_type": "code",
   "execution_count": 1,
   "metadata": {},
   "outputs": [],
   "source": [
    "import pandas as pd"
   ]
  },
  {
   "cell_type": "code",
   "execution_count": 2,
   "metadata": {},
   "outputs": [],
   "source": [
    "dataTraining = pd.read_csv('https://github.com/albahnsen/AdvancedMethodsDataAnalysisClass/raw/master/datasets/dataTraining.zip', encoding='UTF-8', index_col=0)"
   ]
  },
  {
   "cell_type": "code",
   "execution_count": 3,
   "metadata": {},
   "outputs": [],
   "source": [
    "plots = dataTraining['plot']\n",
    "y = (dataTraining['rating'] >= dataTraining['rating'].mean()).astype(int)"
   ]
  },
  {
   "cell_type": "code",
   "execution_count": 5,
   "metadata": {},
   "outputs": [
    {
     "data": {
      "text/plain": [
       "3107    most is the story of a single father who takes...\n",
       "900     a serial killer decides to teach the secrets o...\n",
       "6724    in sweden ,  a female blackmailer with a disfi...\n",
       "4704    in a friday afternoon in new york ,  the presi...\n",
       "2582    in los angeles ,  the editor of a publishing h...\n",
       "                              ...                        \n",
       "8417    \" our marriage ,  their wedding .  \"  it ' s l...\n",
       "1592    the wandering barbarian ,  conan ,  alongside ...\n",
       "1723    like a tale spun by scheherazade ,  kismet fol...\n",
       "7605    mrs .  brisby ,  a widowed mouse ,  lives in a...\n",
       "215     tinker bell journey far north of never land to...\n",
       "Name: plot, Length: 7895, dtype: object"
      ]
     },
     "execution_count": 5,
     "metadata": {},
     "output_type": "execute_result"
    }
   ],
   "source": [
    "plots"
   ]
  },
  {
   "cell_type": "code",
   "execution_count": 4,
   "metadata": {},
   "outputs": [
    {
     "data": {
      "text/plain": [
       "3107    1\n",
       "900     0\n",
       "6724    1\n",
       "4704    1\n",
       "2582    1\n",
       "       ..\n",
       "8417    0\n",
       "1592    0\n",
       "1723    0\n",
       "7605    1\n",
       "215     1\n",
       "Name: rating, Length: 7895, dtype: int32"
      ]
     },
     "execution_count": 4,
     "metadata": {},
     "output_type": "execute_result"
    }
   ],
   "source": [
    "y"
   ]
  },
  {
   "cell_type": "markdown",
   "metadata": {},
   "source": [
    "# Exercise 14.1\n",
    "\n",
    "- Remove stopwords \n",
    "- Lowercase\n",
    "- split the text in words \n",
    "- pad_sequences"
   ]
  },
  {
   "cell_type": "code",
   "execution_count": null,
   "metadata": {},
   "outputs": [],
   "source": []
  },
  {
   "cell_type": "markdown",
   "metadata": {},
   "source": [
    "# Exercise 14.2\n",
    "\n",
    "Create a LSTM neural network to predict the rating of a movie\n",
    "\n",
    "Calculate the testing set accuracy"
   ]
  },
  {
   "cell_type": "code",
   "execution_count": null,
   "metadata": {},
   "outputs": [],
   "source": []
  }
 ],
 "metadata": {
  "kernelspec": {
   "display_name": "Python 3",
   "language": "python",
   "name": "python3"
  },
  "language_info": {
   "codemirror_mode": {
    "name": "ipython",
    "version": 3
   },
   "file_extension": ".py",
   "mimetype": "text/x-python",
   "name": "python",
   "nbconvert_exporter": "python",
   "pygments_lexer": "ipython3",
   "version": "3.7.4"
  }
 },
 "nbformat": 4,
 "nbformat_minor": 4
}
